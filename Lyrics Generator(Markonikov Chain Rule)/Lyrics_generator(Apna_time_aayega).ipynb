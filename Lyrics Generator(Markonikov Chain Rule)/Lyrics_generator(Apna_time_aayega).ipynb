{
 "cells": [
  {
   "cell_type": "code",
   "execution_count": 1,
   "metadata": {},
   "outputs": [],
   "source": [
    "from collections import defaultdict\n",
    "import numpy as np"
   ]
  },
  {
   "cell_type": "markdown",
   "metadata": {},
   "source": [
    "### 1. reading txt file"
   ]
  },
  {
   "cell_type": "code",
   "execution_count": 2,
   "metadata": {},
   "outputs": [],
   "source": [
    "with open(\"./Apna Time Aayega.txt\",encoding='utf8') as file:\n",
    "    data=file.read().lower()"
   ]
  },
  {
   "cell_type": "code",
   "execution_count": 3,
   "metadata": {},
   "outputs": [
    {
     "name": "stdout",
     "output_type": "stream",
     "text": [
      "apna time aayega\n",
      "uth ja apni raakh se\n",
      "tu udd ja ab talaash mein\n",
      "parwaaz dekh parwane ki\n",
      "aasman bhi sar uthayeg\n"
     ]
    }
   ],
   "source": [
    "print(data[:110])"
   ]
  },
  {
   "cell_type": "code",
   "execution_count": null,
   "metadata": {},
   "outputs": [],
   "source": []
  },
  {
   "cell_type": "markdown",
   "metadata": {},
   "source": [
    "### 2. generating words dictionary and their next character frequency"
   ]
  },
  {
   "cell_type": "code",
   "execution_count": 4,
   "metadata": {},
   "outputs": [],
   "source": [
    "def all_word_dict(data,k=4):\n",
    "    all_word=defaultdict(lambda:defaultdict(int))\n",
    "    n=len(data)\n",
    "    for i in range(n-k):\n",
    "        x=data[i:i+k]\n",
    "        y=data[i+k]\n",
    "        all_word[x][y]+=1\n",
    "        \n",
    "    return all_word\n",
    "        "
   ]
  },
  {
   "cell_type": "code",
   "execution_count": 5,
   "metadata": {},
   "outputs": [],
   "source": [
    "# all_word_dict(data)"
   ]
  },
  {
   "cell_type": "code",
   "execution_count": 6,
   "metadata": {},
   "outputs": [
    {
     "data": {
      "text/plain": [
       "defaultdict(<function __main__.all_word_dict.<locals>.<lambda>()>,\n",
       "            {'this': defaultdict(int, {' ': 1, 's': 1}),\n",
       "             'his ': defaultdict(int, {'i': 1}),\n",
       "             'is i': defaultdict(int, {'s': 2}),\n",
       "             's is': defaultdict(int, {' ': 2, 't': 1}),\n",
       "             ' is ': defaultdict(int, {'t': 1, 'i': 1}),\n",
       "             'is t': defaultdict(int, {'h': 1}),\n",
       "             's th': defaultdict(int, {'i': 1}),\n",
       "             ' thi': defaultdict(int, {'s': 1}),\n",
       "             'hiss': defaultdict(int, {' ': 1}),\n",
       "             'iss ': defaultdict(int, {'i': 1}),\n",
       "             'ss i': defaultdict(int, {'s': 1}),\n",
       "             ' ist': defaultdict(int, {'a': 1})})"
      ]
     },
     "execution_count": 6,
     "metadata": {},
     "output_type": "execute_result"
    }
   ],
   "source": [
    "all_word_dict('this is thiss is ista')"
   ]
  },
  {
   "cell_type": "code",
   "execution_count": 7,
   "metadata": {},
   "outputs": [],
   "source": [
    "def words_prob(all_words):\n",
    "    for key in all_words.keys():\n",
    "        s=sum(all_words[key].values())*1.0\n",
    "        for val in all_words[key]:\n",
    "            all_words[key][val]/=s\n",
    "    return all_words"
   ]
  },
  {
   "cell_type": "code",
   "execution_count": 8,
   "metadata": {},
   "outputs": [
    {
     "data": {
      "text/plain": [
       "defaultdict(<function __main__.all_word_dict.<locals>.<lambda>()>,\n",
       "            {'this': defaultdict(int, {' ': 0.5, 's': 0.5}),\n",
       "             'his ': defaultdict(int, {'i': 1.0}),\n",
       "             'is i': defaultdict(int, {'s': 1.0}),\n",
       "             's is': defaultdict(int,\n",
       "                         {' ': 0.6666666666666666, 't': 0.3333333333333333}),\n",
       "             ' is ': defaultdict(int, {'t': 0.5, 'i': 0.5}),\n",
       "             'is t': defaultdict(int, {'h': 1.0}),\n",
       "             's th': defaultdict(int, {'i': 1.0}),\n",
       "             ' thi': defaultdict(int, {'s': 1.0}),\n",
       "             'hiss': defaultdict(int, {' ': 1.0}),\n",
       "             'iss ': defaultdict(int, {'i': 1.0}),\n",
       "             'ss i': defaultdict(int, {'s': 1.0}),\n",
       "             ' ist': defaultdict(int, {'a': 1.0})})"
      ]
     },
     "execution_count": 8,
     "metadata": {},
     "output_type": "execute_result"
    }
   ],
   "source": [
    "words_prob(all_word_dict('this is thiss is ista'))"
   ]
  },
  {
   "cell_type": "markdown",
   "metadata": {},
   "source": [
    "### 3. Generating Next word"
   ]
  },
  {
   "cell_type": "code",
   "execution_count": 9,
   "metadata": {},
   "outputs": [],
   "source": [
    "import numpy as np\n",
    "np.random.seed(11) \n",
    "def next_char(word_prob,word,k):\n",
    "    word=word[-k:]\n",
    "    if word_prob.get(word) is None:\n",
    "        return \" \"\n",
    "    \n",
    "    possible_chars=list(word_prob[word].keys())\n",
    "    possible_values=list(word_prob[word].values())\n",
    "    \n",
    "    return np.random.choice(possible_chars,p=possible_values)"
   ]
  },
  {
   "cell_type": "code",
   "execution_count": 10,
   "metadata": {},
   "outputs": [
    {
     "data": {
      "text/plain": [
       "' '"
      ]
     },
     "execution_count": 10,
     "metadata": {},
     "output_type": "execute_result"
    }
   ],
   "source": [
    "next_char(words_prob(all_word_dict('this is thiss is ista')),'s is',4)"
   ]
  },
  {
   "cell_type": "markdown",
   "metadata": {},
   "source": [
    "### 4. predicting all words"
   ]
  },
  {
   "cell_type": "code",
   "execution_count": 11,
   "metadata": {},
   "outputs": [],
   "source": [
    "def prediction(data,initials,k=4,max_length=2000):\n",
    "    \n",
    "    all_words=all_word_dict(data,k)\n",
    "    word_prob=words_prob(all_words)\n",
    "    \n",
    "    sentence=initials\n",
    "    initials=initials[-k:]\n",
    "    \n",
    "    for c in range(max_length):\n",
    "        next_pred=next_char(word_prob,initials,k)\n",
    "        sentence+=next_pred\n",
    "        initials=sentence[-k:]\n",
    "        \n",
    "    return sentence"
   ]
  },
  {
   "cell_type": "code",
   "execution_count": 12,
   "metadata": {},
   "outputs": [],
   "source": [
    "pred=prediction(data,'apna')"
   ]
  },
  {
   "cell_type": "code",
   "execution_count": 13,
   "metadata": {},
   "outputs": [
    {
     "name": "stdout",
     "output_type": "stream",
     "text": [
      "2004\n"
     ]
    }
   ],
   "source": [
    "print(len(pred))"
   ]
  },
  {
   "cell_type": "code",
   "execution_count": null,
   "metadata": {},
   "outputs": [],
   "source": []
  },
  {
   "cell_type": "code",
   "execution_count": 14,
   "metadata": {},
   "outputs": [],
   "source": [
    "with open(\"predicted_lyrics.txt\",'w',encoding='utf8') as file:\n",
    "    file.write(pred)"
   ]
  }
 ],
 "metadata": {
  "kernelspec": {
   "display_name": "Python 3",
   "language": "python",
   "name": "python3"
  },
  "language_info": {
   "codemirror_mode": {
    "name": "ipython",
    "version": 3
   },
   "file_extension": ".py",
   "mimetype": "text/x-python",
   "name": "python",
   "nbconvert_exporter": "python",
   "pygments_lexer": "ipython3",
   "version": "3.7.6"
  }
 },
 "nbformat": 4,
 "nbformat_minor": 4
}
